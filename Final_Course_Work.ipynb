{
  "nbformat": 4,
  "nbformat_minor": 0,
  "metadata": {
    "colab": {
      "provenance": [],
      "gpuType": "T4",
      "mount_file_id": "1DU8733mE5yjuoDqTbaCPI4Uy29nTT2IR",
      "authorship_tag": "ABX9TyPdrm6mAcei4gC8lLRjm+/j",
      "include_colab_link": true
    },
    "kernelspec": {
      "name": "python3",
      "display_name": "Python 3"
    },
    "language_info": {
      "name": "python"
    },
    "accelerator": "GPU",
    "gpuClass": "standard"
  },
  "cells": [
    {
      "cell_type": "markdown",
      "metadata": {
        "id": "view-in-github",
        "colab_type": "text"
      },
      "source": [
        "<a href=\"https://colab.research.google.com/github/BuiChiCuongs/Detecting-Flower_AI_CNN/blob/main/Final_Course_Work.ipynb\" target=\"_parent\"><img src=\"https://colab.research.google.com/assets/colab-badge.svg\" alt=\"Open In Colab\"/></a>"
      ]
    },
    {
      "cell_type": "code",
      "execution_count": 3,
      "metadata": {
        "id": "fdoKzpQRpH0S"
      },
      "outputs": [],
      "source": [
        "import numpy as np\n",
        "import pandas as pd\n",
        "import matplotlib.pyplot as plt\n",
        "from google.colab import drive\n",
        "from sklearn.model_selection import train_test_split\n",
        "from keras.utils import to_categorical\n",
        "import tensorflow as tf\n",
        "from keras.models import Sequential\n",
        "from keras.optimizers import Adam\n",
        "from keras.losses import categorical_crossentropy\n",
        "from keras.layers import Conv2D, MaxPooling2D, Activation, Dropout, Flatten, Dense, Dropout, BatchNormalization, LeakyReLU\n",
        "from keras.layers.attention.multi_head_attention import activation\n",
        "import seaborn as sns\n",
        "import cv2\n",
        "from os import listdir\n",
        "from PIL import Image\n",
        "from numpy.core.multiarray import asarray\n",
        "from keras.utils import load_img, img_to_array\n",
        "from tensorflow.keras.preprocessing.image import ImageDataGenerator"
      ]
    },
    {
      "cell_type": "code",
      "source": [
        "folder = '/content/drive/MyDrive/Colab Notebooks/Final_Course_Homeworks/Flower_10_data/'\n",
        "photos, labels = list(), list()\n",
        "for file in listdir(folder):\n",
        "  output = 10.0\n",
        "  if file.startswith('Catharanthus'):\n",
        "    output = 0.0\n",
        "  if file.startswith('Crownlmperial'):\n",
        "    output = 1.0\n",
        "  if file.startswith('Daisy'):\n",
        "    output = 2.0  \n",
        "  if file.startswith('Hibiscus'):\n",
        "    output = 3.0\n",
        "  if file.startswith('Ixora'):\n",
        "    output = 4.0\n",
        "  if file.startswith('PeaceLily'):\n",
        "    output = 5.0\n",
        "  if file.startswith('Poinsettia'):\n",
        "    output = 6.0\n",
        "  if file.startswith('Rose'):\n",
        "    output = 7.0\n",
        "  if file.startswith('Sunflower'):\n",
        "    output = 8.0\n",
        "  if file.startswith('Tulip'):\n",
        "    output = 9.0\n",
        "\n",
        "  photo = load_img(folder+file, target_size = (40,40))\n",
        "  photo = img_to_array(photo)\n",
        "  photos.append(photo)\n",
        "  labels.append(output)\n",
        "photos = asarray(photos)\n",
        "labels = asarray(labels)\n",
        "print(photos.shape, labels.shape)"
      ],
      "metadata": {
        "colab": {
          "base_uri": "https://localhost:8080/"
        },
        "id": "_YQJ9xrbpkBf",
        "outputId": "295b2824-e0c1-43ef-8b44-546a79840ae3"
      },
      "execution_count": 4,
      "outputs": [
        {
          "output_type": "stream",
          "name": "stdout",
          "text": [
            "(5198, 40, 40, 3) (5198,)\n"
          ]
        }
      ]
    },
    {
      "cell_type": "code",
      "source": [
        "# Save data \n",
        "np.save('/content/drive/MyDrive/Colab Notebooks/Final_Course_Homeworks/Flower_photos_1.npy', photos)\n",
        "np.save('/content/drive/MyDrive/Colab Notebooks/Final_Course_Homeworks/Flower_labels_1.npy', labels)"
      ],
      "metadata": {
        "id": "NAimeSSBsOWx"
      },
      "execution_count": 5,
      "outputs": []
    },
    {
      "cell_type": "code",
      "source": [
        "# Load data\n",
        "photos = np.load('/content/drive/MyDrive/Colab Notebooks/Final_Course_Homeworks/Flower_photos_1.npy')\n",
        "labels = np.load('/content/drive/MyDrive/Colab Notebooks/Final_Course_Homeworks/Flower_labels_1.npy')"
      ],
      "metadata": {
        "id": "db9-Xv9C-O8u"
      },
      "execution_count": 6,
      "outputs": []
    },
    {
      "cell_type": "code",
      "source": [
        "# split train data, test data\n",
        "x_train, x_test, y_train, y_test = train_test_split(photos, labels, test_size=0.1, random_state=10)"
      ],
      "metadata": {
        "id": "oFRfJiAG-UaI"
      },
      "execution_count": 7,
      "outputs": []
    },
    {
      "cell_type": "code",
      "source": [
        "x_train.shape"
      ],
      "metadata": {
        "colab": {
          "base_uri": "https://localhost:8080/"
        },
        "id": "Q64LaZmS-cE8",
        "outputId": "3b8b7c7e-6fb4-4c0f-d369-f948c056b389"
      },
      "execution_count": 8,
      "outputs": [
        {
          "output_type": "execute_result",
          "data": {
            "text/plain": [
              "(4678, 40, 40, 3)"
            ]
          },
          "metadata": {},
          "execution_count": 8
        }
      ]
    },
    {
      "cell_type": "code",
      "source": [
        "x_test.shape"
      ],
      "metadata": {
        "colab": {
          "base_uri": "https://localhost:8080/"
        },
        "id": "O-BCQd3W-d7N",
        "outputId": "4b4ee151-d9ea-47a1-d8a3-f57d25ef0458"
      },
      "execution_count": 9,
      "outputs": [
        {
          "output_type": "execute_result",
          "data": {
            "text/plain": [
              "(520, 40, 40, 3)"
            ]
          },
          "metadata": {},
          "execution_count": 9
        }
      ]
    },
    {
      "cell_type": "code",
      "source": [
        "y_train.shape"
      ],
      "metadata": {
        "colab": {
          "base_uri": "https://localhost:8080/"
        },
        "id": "MLSyY4D9-grc",
        "outputId": "80b6f874-00d8-4b3d-dc9b-2359217b4245"
      },
      "execution_count": 10,
      "outputs": [
        {
          "output_type": "execute_result",
          "data": {
            "text/plain": [
              "(4678,)"
            ]
          },
          "metadata": {},
          "execution_count": 10
        }
      ]
    },
    {
      "cell_type": "code",
      "source": [
        "y_test.shape"
      ],
      "metadata": {
        "colab": {
          "base_uri": "https://localhost:8080/"
        },
        "id": "N3VHfB3N-irV",
        "outputId": "0d758191-6956-430c-bcb8-6bee1e7e2e50"
      },
      "execution_count": 11,
      "outputs": [
        {
          "output_type": "execute_result",
          "data": {
            "text/plain": [
              "(520,)"
            ]
          },
          "metadata": {},
          "execution_count": 11
        }
      ]
    },
    {
      "cell_type": "code",
      "source": [
        "# Standardized data\n",
        "\n",
        "x_train = x_train.astype('float32')/255\n",
        "y_train = to_categorical(y_train, 11)\n",
        "\n",
        "x_test = x_test.astype('float32')/255\n",
        "y_test = to_categorical(y_test, 11)"
      ],
      "metadata": {
        "id": "cFaeTnao-kdO"
      },
      "execution_count": 12,
      "outputs": []
    },
    {
      "cell_type": "code",
      "source": [
        "y_train.shape"
      ],
      "metadata": {
        "colab": {
          "base_uri": "https://localhost:8080/"
        },
        "id": "enMru6Uv-xNF",
        "outputId": "4678db10-c1e4-4b1c-aae7-e4d98da96f8e"
      },
      "execution_count": 13,
      "outputs": [
        {
          "output_type": "execute_result",
          "data": {
            "text/plain": [
              "(4678, 11)"
            ]
          },
          "metadata": {},
          "execution_count": 13
        }
      ]
    },
    {
      "cell_type": "code",
      "source": [
        "y_test.shape"
      ],
      "metadata": {
        "colab": {
          "base_uri": "https://localhost:8080/"
        },
        "id": "T191Td-b_wjV",
        "outputId": "5cea5525-da5d-4dcf-8083-ba7e4e421617"
      },
      "execution_count": 14,
      "outputs": [
        {
          "output_type": "execute_result",
          "data": {
            "text/plain": [
              "(520, 11)"
            ]
          },
          "metadata": {},
          "execution_count": 14
        }
      ]
    },
    {
      "cell_type": "code",
      "source": [
        "img = x_train[1000]\n",
        "plt.imshow(img)\n",
        "plt.show()\n",
        "print(y_train[1000])"
      ],
      "metadata": {
        "colab": {
          "base_uri": "https://localhost:8080/",
          "height": 449
        },
        "id": "iKFG5XOGC1TY",
        "outputId": "4a6d4472-24cf-4e06-82c7-dbabb6666414"
      },
      "execution_count": 15,
      "outputs": [
        {
          "output_type": "display_data",
          "data": {
            "text/plain": [
              "<Figure size 640x480 with 1 Axes>"
            ],
            "image/png": "[encoded data removed]"
          },
          "metadata": {}
        },
        {
          "output_type": "stream",
          "name": "stdout",
          "text": [
            "[0. 0. 0. 1. 0. 0. 0. 0. 0. 0. 0.]\n"
          ]
        }
      ]
    },
    {
      "cell_type": "code",
      "source": [
        "model = Sequential()\n",
        "\n",
        "model.add(Conv2D(128, (3, 3), strides=(1,1), padding = 'same', activation = 'relu', \n",
        "                 input_shape=(40, 40, 3)))\n",
        "model.add(Conv2D(128, (3, 3),strides=(1,1), padding = 'same',  activation = 'relu'))\n",
        "model.add(MaxPooling2D(pool_size=(2, 2)))\n",
        "\n",
        "model.add(Conv2D(256, (3, 3), strides=(1,1), padding = 'same', activation = 'relu'))\n",
        "model.add(Conv2D(256, (3, 3), strides=(1,1), padding = 'same', activation = 'relu'))\n",
        "model.add(MaxPooling2D(pool_size=(2, 2)))\n",
        "\n",
        "model.add(Conv2D(512, (3, 3), strides=(1,1), padding = 'same', activation = 'relu'))\n",
        "model.add(Conv2D(512, (3, 3), strides=(1,1), padding = 'same', activation = 'relu'))\n",
        "model.add(Conv2D(512, (3, 3), strides=(1,1), padding = 'same', activation = 'relu'))\n",
        "model.add(MaxPooling2D(pool_size=(2, 2)))\n",
        "\n",
        "model.add(Conv2D(512, (3, 3), strides=(1,1), padding = 'same', activation = 'relu'))\n",
        "model.add(Conv2D(512, (3, 3), strides=(1,1), padding = 'same', activation = 'relu'))\n",
        "model.add(Conv2D(512, (3, 3), strides=(1,1), padding = 'same', activation = 'relu'))\n",
        "model.add(MaxPooling2D(pool_size=(2, 2)))\n",
        "\n",
        "model.add(Flatten())\n",
        "model.add(Dense(512, activation='relu'))\n",
        "model.add(Dense(256, activation='relu'))\n",
        "model.add(Dense(11, activation='softmax'))\n",
        "\n",
        "model.summary()\n",
        "model.compile(loss='categorical_crossentropy', optimizer=Adam(learning_rate=0.0001), metrics=['accuracy'])"
      ],
      "metadata": {
        "colab": {
          "base_uri": "https://localhost:8080/"
        },
        "id": "di3CJCGfAub-",
        "outputId": "ff6cb47f-bfb2-48f1-aa22-d6ac34f99ac5"
      },
      "execution_count": 16,
      "outputs": [
        {
          "output_type": "stream",
          "name": "stdout",
          "text": [
            "Model: \"sequential\"\n",
            "_________________________________________________________________\n",
            " Layer (type)                Output Shape              Param #   \n",
            "=================================================================\n",
            " conv2d (Conv2D)             (None, 40, 40, 128)       3584      \n",
            "                                                                 \n",
            " conv2d_1 (Conv2D)           (None, 40, 40, 128)       147584    \n",
            "                                                                 \n",
            " max_pooling2d (MaxPooling2D  (None, 20, 20, 128)      0         \n",
            " )                                                               \n",
            "                                                                 \n",
            " conv2d_2 (Conv2D)           (None, 20, 20, 256)       295168    \n",
            "                                                                 \n",
            " conv2d_3 (Conv2D)           (None, 20, 20, 256)       590080    \n",
            "                                                                 \n",
            " max_pooling2d_1 (MaxPooling  (None, 10, 10, 256)      0         \n",
            " 2D)                                                             \n",
            "                                                                 \n",
            " conv2d_4 (Conv2D)           (None, 10, 10, 512)       1180160   \n",
            "                                                                 \n",
            " conv2d_5 (Conv2D)           (None, 10, 10, 512)       2359808   \n",
            "                                                                 \n",
            " conv2d_6 (Conv2D)           (None, 10, 10, 512)       2359808   \n",
            "                                                                 \n",
            " max_pooling2d_2 (MaxPooling  (None, 5, 5, 512)        0         \n",
            " 2D)                                                             \n",
            "                                                                 \n",
            " conv2d_7 (Conv2D)           (None, 5, 5, 512)         2359808   \n",
            "                                                                 \n",
            " conv2d_8 (Conv2D)           (None, 5, 5, 512)         2359808   \n",
            "                                                                 \n",
            " conv2d_9 (Conv2D)           (None, 5, 5, 512)         2359808   \n",
            "                                                                 \n",
            " max_pooling2d_3 (MaxPooling  (None, 2, 2, 512)        0         \n",
            " 2D)                                                             \n",
            "                                                                 \n",
            " flatten (Flatten)           (None, 2048)              0         \n",
            "                                                                 \n",
            " dense (Dense)               (None, 512)               1049088   \n",
            "                                                                 \n",
            " dense_1 (Dense)             (None, 256)               131328    \n",
            "                                                                 \n",
            " dense_2 (Dense)             (None, 11)                2827      \n",
            "                                                                 \n",
            "=================================================================\n",
            "Total params: 15,198,859\n",
            "Trainable params: 15,198,859\n",
            "Non-trainable params: 0\n",
            "_________________________________________________________________\n"
          ]
        }
      ]
    },
    {
      "cell_type": "code",
      "source": [
        "aug = ImageDataGenerator(rotation_range=10,\n",
        "                    width_shift_range=0.05,\n",
        "                    height_shift_range=0.05,\n",
        "                    shear_range=0.05,\n",
        "                    zoom_range=0.05,\n",
        "                    horizontal_flip=True,\n",
        "                    fill_mode='nearest')"
      ],
      "metadata": {
        "id": "x7-6c1IoDSvz"
      },
      "execution_count": 17,
      "outputs": []
    },
    {
      "cell_type": "code",
      "source": [
        "train = model.fit_generator(aug.flow(x_train, y_train, batch_size=100),\n",
        "                              epochs=35, validation_data=aug.flow(x_test,y_test, batch_size=100))"
      ],
      "metadata": {
        "colab": {
          "base_uri": "https://localhost:8080/"
        },
        "id": "A_CXQ8qREO6r",
        "outputId": "2accb459-bd2d-4ec3-8369-dbaaa1f1de24"
      },
      "execution_count": 18,
      "outputs": [
        {
          "output_type": "stream",
          "name": "stderr",
          "text": [
            "<ipython-input-18-acd4205eb3ad>:1: UserWarning: `Model.fit_generator` is deprecated and will be removed in a future version. Please use `Model.fit`, which supports generators.\n",
            "  train = model.fit_generator(aug.flow(x_train, y_train, batch_size=100),\n"
          ]
        },
        {
          "output_type": "stream",
          "name": "stdout",
          "text": [
            "Epoch 1/35\n",
            "47/47 [==============================] - 31s 348ms/step - loss: 2.2040 - accuracy: 0.1794 - val_loss: 2.0674 - val_accuracy: 0.2346\n",
            "Epoch 2/35\n",
            "47/47 [==============================] - 7s 158ms/step - loss: 1.7868 - accuracy: 0.3440 - val_loss: 1.6355 - val_accuracy: 0.3750\n",
            "Epoch 3/35\n",
            "47/47 [==============================] - 10s 218ms/step - loss: 1.5040 - accuracy: 0.4502 - val_loss: 1.5481 - val_accuracy: 0.4212\n",
            "Epoch 4/35\n",
            "47/47 [==============================] - 8s 172ms/step - loss: 1.3396 - accuracy: 0.5297 - val_loss: 1.2809 - val_accuracy: 0.5673\n",
            "Epoch 5/35\n",
            "47/47 [==============================] - 6s 133ms/step - loss: 1.1936 - accuracy: 0.5746 - val_loss: 1.2570 - val_accuracy: 0.5519\n",
            "Epoch 6/35\n",
            "47/47 [==============================] - 8s 168ms/step - loss: 1.0813 - accuracy: 0.6156 - val_loss: 1.2179 - val_accuracy: 0.5923\n",
            "Epoch 7/35\n",
            "47/47 [==============================] - 6s 136ms/step - loss: 1.0735 - accuracy: 0.6225 - val_loss: 1.1743 - val_accuracy: 0.6038\n",
            "Epoch 8/35\n",
            "47/47 [==============================] - 7s 148ms/step - loss: 0.9635 - accuracy: 0.6644 - val_loss: 1.0367 - val_accuracy: 0.6442\n",
            "Epoch 9/35\n",
            "47/47 [==============================] - 6s 137ms/step - loss: 0.9046 - accuracy: 0.6736 - val_loss: 1.0460 - val_accuracy: 0.6346\n",
            "Epoch 10/35\n",
            "47/47 [==============================] - 8s 161ms/step - loss: 0.8523 - accuracy: 0.6997 - val_loss: 1.0632 - val_accuracy: 0.6269\n",
            "Epoch 11/35\n",
            "47/47 [==============================] - 8s 178ms/step - loss: 0.8507 - accuracy: 0.7012 - val_loss: 1.0064 - val_accuracy: 0.6538\n",
            "Epoch 12/35\n",
            "47/47 [==============================] - 8s 168ms/step - loss: 0.7995 - accuracy: 0.7140 - val_loss: 0.9709 - val_accuracy: 0.6769\n",
            "Epoch 13/35\n",
            "47/47 [==============================] - 7s 144ms/step - loss: 0.7315 - accuracy: 0.7396 - val_loss: 0.9476 - val_accuracy: 0.6788\n",
            "Epoch 14/35\n",
            "47/47 [==============================] - 7s 153ms/step - loss: 0.6569 - accuracy: 0.7681 - val_loss: 0.7894 - val_accuracy: 0.7365\n",
            "Epoch 15/35\n",
            "47/47 [==============================] - 7s 144ms/step - loss: 0.6346 - accuracy: 0.7719 - val_loss: 0.8465 - val_accuracy: 0.7173\n",
            "Epoch 16/35\n",
            "47/47 [==============================] - 7s 143ms/step - loss: 0.6427 - accuracy: 0.7713 - val_loss: 0.8251 - val_accuracy: 0.7096\n",
            "Epoch 17/35\n",
            "47/47 [==============================] - 7s 153ms/step - loss: 0.5897 - accuracy: 0.7965 - val_loss: 0.7679 - val_accuracy: 0.7423\n",
            "Epoch 18/35\n",
            "47/47 [==============================] - 7s 144ms/step - loss: 0.4971 - accuracy: 0.8307 - val_loss: 0.8075 - val_accuracy: 0.7212\n",
            "Epoch 19/35\n",
            "47/47 [==============================] - 7s 152ms/step - loss: 0.5322 - accuracy: 0.8102 - val_loss: 0.8220 - val_accuracy: 0.7346\n",
            "Epoch 20/35\n",
            "47/47 [==============================] - 7s 143ms/step - loss: 0.4954 - accuracy: 0.8228 - val_loss: 0.7747 - val_accuracy: 0.7327\n",
            "Epoch 21/35\n",
            "47/47 [==============================] - 7s 151ms/step - loss: 0.4328 - accuracy: 0.8465 - val_loss: 0.8824 - val_accuracy: 0.7096\n",
            "Epoch 22/35\n",
            "47/47 [==============================] - 7s 142ms/step - loss: 0.4564 - accuracy: 0.8410 - val_loss: 0.8240 - val_accuracy: 0.7519\n",
            "Epoch 23/35\n",
            "47/47 [==============================] - 7s 150ms/step - loss: 0.4027 - accuracy: 0.8619 - val_loss: 0.6611 - val_accuracy: 0.7865\n",
            "Epoch 24/35\n",
            "47/47 [==============================] - 7s 158ms/step - loss: 0.3628 - accuracy: 0.8694 - val_loss: 0.6920 - val_accuracy: 0.8058\n",
            "Epoch 25/35\n",
            "47/47 [==============================] - 8s 162ms/step - loss: 0.3299 - accuracy: 0.8867 - val_loss: 0.6518 - val_accuracy: 0.8192\n",
            "Epoch 26/35\n",
            "47/47 [==============================] - 10s 208ms/step - loss: 0.3060 - accuracy: 0.8965 - val_loss: 0.7399 - val_accuracy: 0.7865\n",
            "Epoch 27/35\n",
            "47/47 [==============================] - 11s 226ms/step - loss: 0.2998 - accuracy: 0.8942 - val_loss: 0.7272 - val_accuracy: 0.7942\n",
            "Epoch 28/35\n",
            "47/47 [==============================] - 7s 149ms/step - loss: 0.3082 - accuracy: 0.8948 - val_loss: 0.7158 - val_accuracy: 0.7962\n",
            "Epoch 29/35\n",
            "47/47 [==============================] - 7s 152ms/step - loss: 0.2894 - accuracy: 0.9015 - val_loss: 0.7118 - val_accuracy: 0.8173\n",
            "Epoch 30/35\n",
            "47/47 [==============================] - 7s 154ms/step - loss: 0.2211 - accuracy: 0.9265 - val_loss: 0.6702 - val_accuracy: 0.8250\n",
            "Epoch 31/35\n",
            "47/47 [==============================] - 7s 149ms/step - loss: 0.2035 - accuracy: 0.9322 - val_loss: 0.6680 - val_accuracy: 0.8231\n",
            "Epoch 32/35\n",
            "47/47 [==============================] - 7s 153ms/step - loss: 0.1849 - accuracy: 0.9348 - val_loss: 0.7356 - val_accuracy: 0.8385\n",
            "Epoch 33/35\n",
            "47/47 [==============================] - 7s 149ms/step - loss: 0.1725 - accuracy: 0.9384 - val_loss: 0.6826 - val_accuracy: 0.8577\n",
            "Epoch 34/35\n",
            "47/47 [==============================] - 7s 151ms/step - loss: 0.2019 - accuracy: 0.9254 - val_loss: 0.6502 - val_accuracy: 0.8308\n",
            "Epoch 35/35\n",
            "47/47 [==============================] - 7s 147ms/step - loss: 0.1677 - accuracy: 0.9397 - val_loss: 0.6547 - val_accuracy: 0.8365\n"
          ]
        }
      ]
    },
    {
      "cell_type": "code",
      "source": [
        "# Save model\n",
        "model.save('/content/drive/MyDrive/Colab Notebooks/Final_Course_Homeworks/Predict_flower_model_f2.h5')"
      ],
      "metadata": {
        "id": "ZKdhaX2tEnu6"
      },
      "execution_count": 19,
      "outputs": []
    },
    {
      "cell_type": "code",
      "source": [
        "test = model.evaluate(x_test, y_test, verbose=0)\n",
        "print('Test loss: ', test[0])\n",
        "print('Test accuracy', test[1])\n",
        "\n",
        "accuracy=train.history['accuracy']\n",
        "loss=train.history['loss']\n",
        "\n",
        "test_accuracy=train.history['val_accuracy']\n",
        "test_loss=train.history['val_loss']\n",
        "\n",
        "epochs=range(len(accuracy))\n",
        "plt.plot(epochs, accuracy, 'bo', label='Training accuracy',color='blue')\n",
        "plt.plot(epochs, loss, 'b', label='Training loss',color='blue')\n",
        "\n",
        "plt.plot(epochs, test_accuracy, 'bo', label='Test accuracy',color='red')\n",
        "plt.plot(epochs, test_loss, 'b', label='Test loss',color='red')\n",
        "\n",
        "plt.legend()\n",
        "plt.show()"
      ],
      "metadata": {
        "colab": {
          "base_uri": "https://localhost:8080/",
          "height": 612
        },
        "id": "MNYSg_KdRZ7w",
        "outputId": "14f94efb-7ec2-4816-dca5-88e8cdd502d2"
      },
      "execution_count": 20,
      "outputs": [
        {
          "output_type": "stream",
          "name": "stdout",
          "text": [
            "Test loss:  0.7610891461372375\n",
            "Test accuracy 0.8134615421295166\n"
          ]
        },
        {
          "output_type": "stream",
          "name": "stderr",
          "text": [
            "<ipython-input-20-f0ebb0732086>:12: UserWarning: color is redundantly defined by the 'color' keyword argument and the fmt string \"bo\" (-> color='b'). The keyword argument will take precedence.\n",
            "  plt.plot(epochs, accuracy, 'bo', label='Training accuracy',color='blue')\n",
            "<ipython-input-20-f0ebb0732086>:13: UserWarning: color is redundantly defined by the 'color' keyword argument and the fmt string \"b\" (-> color=(0.0, 0.0, 1.0, 1)). The keyword argument will take precedence.\n",
            "  plt.plot(epochs, loss, 'b', label='Training loss',color='blue')\n",
            "<ipython-input-20-f0ebb0732086>:15: UserWarning: color is redundantly defined by the 'color' keyword argument and the fmt string \"bo\" (-> color='b'). The keyword argument will take precedence.\n",
            "  plt.plot(epochs, test_accuracy, 'bo', label='Test accuracy',color='red')\n",
            "<ipython-input-20-f0ebb0732086>:16: UserWarning: color is redundantly defined by the 'color' keyword argument and the fmt string \"b\" (-> color=(0.0, 0.0, 1.0, 1)). The keyword argument will take precedence.\n",
            "  plt.plot(epochs, test_loss, 'b', label='Test loss',color='red')\n"
          ]
        },
        {
          "output_type": "display_data",
          "data": {
            "text/plain": [
              "<Figure size 640x480 with 1 Axes>"
            ],
            "image/png": "[encoded data removed]"
          },
          "metadata": {}
        }
      ]
    },
    {
      "cell_type": "code",
      "source": [
        "img = x_test[121]\n",
        "plt.imshow(img)\n",
        "plt.show()\n",
        "print(y_test[121])\n"
      ],
      "metadata": {
        "id": "IH7MMn77RhH6",
        "colab": {
          "base_uri": "https://localhost:8080/",
          "height": 449
        },
        "outputId": "5f0c9878-18ce-43cc-cb66-be7200a13616"
      },
      "execution_count": 36,
      "outputs": [
        {
          "output_type": "display_data",
          "data": {
            "text/plain": [
              "<Figure size 640x480 with 1 Axes>"
            ],
            "image/png": "[encoded data removed]"
          },
          "metadata": {}
        },
        {
          "output_type": "stream",
          "name": "stdout",
          "text": [
            "[0. 0. 0. 0. 0. 0. 0. 0. 0. 1. 0.]\n"
          ]
        }
      ]
    },
    {
      "cell_type": "code",
      "source": [
        "x_pred = x_test[121].reshape(1,40,40,3)\n",
        "x_pred=x_pred.astype('float32')/255\n",
        "matrix = np.argmax(model.predict(x_pred))\n",
        "class_names = [\"Catharanthus\", \"Crownlmperial\", \"Daisy\", \"Hibiscus\", \"Ixora\", \n",
        "               \"PeaceLily\", \"Poinsettia\", \"Rose\", \"Sunflower\", \"Tulip\", \"Dont know\"]\n",
        "\n",
        "class_predict = matrix\n",
        "print(\"Predict flower: \", class_names[class_predict])"
      ],
      "metadata": {
        "colab": {
          "base_uri": "https://localhost:8080/"
        },
        "id": "nQ2KLXF2EYvy",
        "outputId": "bce70bac-00fb-4afc-fc92-cad8d9ea5b97"
      },
      "execution_count": 37,
      "outputs": [
        {
          "output_type": "stream",
          "name": "stdout",
          "text": [
            "1/1 [==============================] - 0s 76ms/step\n",
            "Predict flower:  Tulip\n"
          ]
        }
      ]
    },
    {
      "cell_type": "code",
      "source": [],
      "metadata": {
        "id": "9BmGPBgXHaaw"
      },
      "execution_count": null,
      "outputs": []
    }
  ]
}